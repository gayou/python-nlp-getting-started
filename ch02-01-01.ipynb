{
 "cells": [
  {
   "cell_type": "code",
   "execution_count": 3,
   "metadata": {},
   "outputs": [],
   "source": [
    "# リスト2.1.1\n",
    "# 青空文庫からテキストを抽出（夏目漱石　三四郎）\n",
    "\n",
    "# zipダウンロード\n",
    "url = 'https://www.aozora.gr.jp/cards/000148/files/794_ruby_4237.zip'\n",
    "zip = '794_ruby_4237.zip'\n",
    "\n",
    "import urllib.request\n",
    "urllib.request.urlretrieve(url, zip)\n",
    "\n",
    "import zipfile\n",
    "with zipfile.ZipFile(zip, 'r') as myzip:\n",
    "    myzip.extractall()\n",
    "    # 解凍後のファイルからデータの読み込み\n",
    "    for myfile in myzip.infolist():\n",
    "        # 解凍後にファイル名を取得\n",
    "        filename = myfile.filename\n",
    "        # ファイルオープン時にencodingを指定してsjisの変換をする\n",
    "        with open(filename, encoding = 'sjis') as file:\n",
    "            text_org = file.read()\n",
    "            \n",
    "#print(text_org)"
   ]
  },
  {
   "cell_type": "code",
   "execution_count": 4,
   "metadata": {},
   "outputs": [
    {
     "name": "stdout",
     "output_type": "stream",
     "text": [
      "【整形前文頭部分】\n",
      "三四郎\n",
      "夏目漱石\n",
      "\n",
      "-------------------------------------------------------\n",
      "【テキスト中に現れる記号について】\n",
      "\n",
      "《》：ルビ\n",
      "（例）頓狂《とんきょう》\n",
      "\n",
      "｜：ルビの付く文字列の始まりを特定する記号\n",
      "（例）福岡県｜京都郡《みやこぐん》\n",
      "\n",
      "［＃］：入力者注　主に外字の説明や、傍点の位置の指定\n",
      "　　　（数字は、JIS X 0213の面区点番号またはUnicode、底本のページと行数）\n",
      "（例）※［＃「魚＋師のつくり」、第4水準2-93-37］\n",
      "\n",
      "〔〕：アクセント分解された欧文をかこむ\n",
      "（例）〔ve'rite'《ヴェリテ》 vraie《ヴレイ》.〕\n",
      "アクセント分解についての詳細は下記URLを参照してください\n",
      "http://www.aozora.gr.jp/accent_separation.html\n",
      "-------------------------------------------------------\n",
      "\n",
      "［＃７字下げ］一［＃「一」は中見出し］\n",
      "\n",
      "　うとうととして目がさめると女はいつのまにか、隣のじいさんと話を始めている。このじいさんはたしかに前の前の駅から乗ったいなか者である。発車まぎわに頓狂《とんきょう》な声を出して駆け込んで来て、いきなり肌《はだ》をぬいだと思ったら背中にお灸《きゅう》のあとがいっぱいあったので、三四郎《さん\n",
      "\n",
      "****************************************************************************************************\n",
      "\n",
      "【整形前文末部分】\n",
      "も答えなかった。ただ口の中で迷羊《ストレイ・シープ》、迷羊《ストレイ・シープ》と繰り返した。\n",
      "\n",
      "\n",
      "\n",
      "底本：「三四郎」角川文庫クラシックス、角川書店\n",
      "　　　1951（昭和26）年10月20日初版発行\n",
      "　　　1997（平成9）年6月10日127刷\n",
      "初出：「朝日新聞」\n",
      "　　　1908（明治41）年9月1日〜12月29日\n",
      "入力：古村充\n",
      "校正：かとうかおり\n",
      "2000年7月1日公開\n",
      "2014年6月19日修正\n",
      "青空文庫作成ファイル：\n",
      "このファイルは、インターネットの図書館、青空文庫（http://www.aozora.gr.jp/）で作られました。入力、校正、制作にあたったのは、ボランティアの皆さんです。\n",
      "\n",
      "****************************************************************************************************\n",
      "\n"
     ]
    }
   ],
   "source": [
    "# リスト 2.1.2\n",
    "# テキスト内容の確認\n",
    "\n",
    "print('【整形前文頭部分】')\n",
    "print(text_org[:600])\n",
    "\n",
    "# 区切り表示\n",
    "print()\n",
    "print('*' * 100)\n",
    "print()\n",
    "\n",
    "print('【整形前文末部分】')\n",
    "print(text_org[-300:])\n",
    "print('*' * 100)\n",
    "print()"
   ]
  },
  {
   "cell_type": "code",
   "execution_count": 5,
   "metadata": {},
   "outputs": [],
   "source": [
    "# リスト 2.1.3\n",
    "# テキストの整形\n",
    "\n",
    "import re\n",
    "# ヘッダ部分の除去\n",
    "text = re.split('\\-{5,}', text_org)[2]\n",
    "# print(text)\n",
    "\n",
    "# フッタ部分の削除\n",
    "text = re.split('底本：', text)[0]\n",
    "# print(text)\n",
    "\n",
    "# ｜の削除\n",
    "text = text.replace('｜', '')\n",
    "\n",
    "# ルビの削除\n",
    "text = re.sub('《.+?》', '', text)\n",
    "\n",
    "# 入力注の削除\n",
    "text = re.sub('［＃.+?］', '', text)\n",
    "\n",
    "# 空行の削除\n",
    "text = re.sub('\\n\\n', '\\n', text)\n",
    "text = re.sub('\\r', '', text)"
   ]
  },
  {
   "cell_type": "code",
   "execution_count": 6,
   "metadata": {},
   "outputs": [
    {
     "name": "stdout",
     "output_type": "stream",
     "text": [
      "【整形後文頭部分】\n",
      "\n",
      "一\n",
      "　うとうととして目がさめると女はいつのまにか、隣のじいさんと話を始めている。このじいさんはたしかに前の前の駅から乗ったいなか者である。発車まぎわに頓狂な声を出して駆け込んで来て、いきなり肌をぬい\n",
      "\n",
      "****************************************************************************************************\n",
      "\n",
      "【整形後文末部分】\n",
      "評に取りかかる。与次郎だけが三四郎のそばへ来た。\n",
      "「どうだ森の女は」\n",
      "「森の女という題が悪い」\n",
      "「じゃ、なんとすればよいんだ」\n",
      "　三四郎はなんとも答えなかった。ただ口の中で迷羊、迷羊と繰り返した。\n",
      "\n",
      "\n"
     ]
    }
   ],
   "source": [
    "# リスト 2.1.4\n",
    "# 整形結果の確認\n",
    "\n",
    "# 頭の100文字表示\n",
    "print('【整形後文頭部分】')\n",
    "print(text[:100])\n",
    "\n",
    "# 区切り表示\n",
    "print()\n",
    "print('*' * 100)\n",
    "print()\n",
    "\n",
    "# 後ろの100文字表示\n",
    "print('【整形後文末部分】')\n",
    "print(text[-100:])"
   ]
  },
  {
   "cell_type": "code",
   "execution_count": null,
   "metadata": {},
   "outputs": [],
   "source": []
  }
 ],
 "metadata": {
  "kernelspec": {
   "display_name": "Python 3",
   "language": "python",
   "name": "python3"
  },
  "language_info": {
   "codemirror_mode": {
    "name": "ipython",
    "version": 3
   },
   "file_extension": ".py",
   "mimetype": "text/x-python",
   "name": "python",
   "nbconvert_exporter": "python",
   "pygments_lexer": "ipython3",
   "version": "3.7.5"
  }
 },
 "nbformat": 4,
 "nbformat_minor": 4
}
